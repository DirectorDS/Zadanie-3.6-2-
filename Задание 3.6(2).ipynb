{
  "nbformat": 4,
  "nbformat_minor": 0,
  "metadata": {
    "colab": {
      "provenance": []
    },
    "kernelspec": {
      "name": "python3",
      "display_name": "Python 3"
    },
    "language_info": {
      "name": "python"
    }
  },
  "cells": [
    {
      "cell_type": "code",
      "execution_count": 6,
      "metadata": {
        "colab": {
          "base_uri": "https://localhost:8080/"
        },
        "id": "wp8KbtN58T82",
        "outputId": "d69f0fff-62e3-4fe1-f66e-8cac4bafe237"
      },
      "outputs": [
        {
          "output_type": "stream",
          "name": "stdout",
          "text": [
            "Requirement already satisfied: pyspark in /usr/local/lib/python3.10/dist-packages (3.5.1)\n",
            "Requirement already satisfied: py4j==0.10.9.7 in /usr/local/lib/python3.10/dist-packages (from pyspark) (0.10.9.7)\n"
          ]
        }
      ],
      "source": [
        "pip install pyspark"
      ]
    },
    {
      "cell_type": "code",
      "source": [
        "import random\n",
        "import pandas as pd\n",
        "from datetime import datetime, timedelta\n",
        "from pyspark.sql import SparkSession\n",
        "from pyspark.sql.types import StructType, StructField, StringType, IntegerType, FloatType\n",
        "from google.colab import drive\n",
        "\n",
        "# Инициализация SparkSession\n",
        "spark = SparkSession.builder.appName(\"Data\").getOrCreate()\n",
        "\n",
        "# Конфигурация\n",
        "# Для каждой единицы продуктов генерируем цену\n",
        "product_prices = {\n",
        "    'Meat': round(random.uniform(1.0, 20.0), 2),\n",
        "    'Rice': round(random.uniform(1.0, 20.0), 2),\n",
        "    'Fruits': round(random.uniform(1.0, 20.0), 2),\n",
        "    'Ice-cream': round(random.uniform(1.0, 20.0), 2),\n",
        "    'Bread': round(random.uniform(1.0, 20.0), 2)\n",
        "}\n",
        "num = 1000  # Минимальное количество записей\n",
        "min_quantity = 1\n",
        "max_quantity = 10\n",
        "\n",
        "# Вспомогательная функция для генерации случайной даты\n",
        "def generate_random_date():\n",
        "    start_date = datetime.now() - timedelta(days=365)\n",
        "    random_number_of_days = random.randrange(365)\n",
        "    return start_date + timedelta(days=random_number_of_days)\n",
        "\n",
        "# Генерация данных\n",
        "data = []\n",
        "for _ in range(num):\n",
        "    order_date = generate_random_date().strftime('%Y-%m-%d')\n",
        "    user_id = random.randint(1, 300)  # Генерация UserID в диапазоне 1-300\n",
        "    product = random.choice(list(product_prices.keys()))\n",
        "    quantity = random.randint(min_quantity, max_quantity)\n",
        "    price_unit = product_prices[product]  # Цена за единицу продукта из словаря\n",
        "    total_price = round(price_unit * quantity, 2)  # Общая стоимость продуктов с учетом их количества\n",
        "    data.append((order_date, user_id, product, quantity, total_price))\n",
        "\n",
        "# Определение схемы\n",
        "schema = StructType([\n",
        "    StructField(\"Date\", StringType(), True),\n",
        "    StructField(\"UserID\", IntegerType(), True),\n",
        "    StructField(\"Product\", StringType(), True),\n",
        "    StructField(\"Quantity\", IntegerType(), True),\n",
        "    StructField(\"Price\", FloatType(), True)  # Переименованное поле для общей стоимости\n",
        "])\n",
        "\n",
        "# Создание DataFrame\n",
        "df = spark.createDataFrame(data, schema)\n",
        "df.show()\n",
        "\n",
        "# Подключение Google Drive\n",
        "drive.mount('/content/drive')\n",
        "\n",
        "# Сохранение данных в формате CSV\n",
        "df.write.csv(\"/content/drive/MyDrive/Colab Notebooks/syn_data.csv\", header=True)\n",
        "\n",
        "# Завершение работы SparkSession\n",
        "spark.stop()\n"
      ],
      "metadata": {
        "colab": {
          "base_uri": "https://localhost:8080/"
        },
        "id": "c5CW9WPq80oz",
        "outputId": "ea7473de-d213-4bc0-d9fc-2722d7868bba"
      },
      "execution_count": 10,
      "outputs": [
        {
          "output_type": "stream",
          "name": "stdout",
          "text": [
            "+----------+------+---------+--------+------+\n",
            "|      Date|UserID|  Product|Quantity| Price|\n",
            "+----------+------+---------+--------+------+\n",
            "|2024-04-02|   190|   Fruits|       9|130.05|\n",
            "|2024-02-15|   151|   Fruits|       2|  28.9|\n",
            "|2024-05-12|    59|Ice-cream|      10| 164.9|\n",
            "|2024-07-07|   130|     Meat|       9|  54.0|\n",
            "|2024-03-09|   276|Ice-cream|       9|148.41|\n",
            "|2024-07-04|    87|Ice-cream|       1| 16.49|\n",
            "|2024-03-16|   186|    Bread|       6| 51.06|\n",
            "|2024-01-10|   245|   Fruits|       1| 14.45|\n",
            "|2023-12-15|    61|     Meat|       2|  12.0|\n",
            "|2024-05-05|   135|Ice-cream|       5| 82.45|\n",
            "|2024-07-10|   205|Ice-cream|       6| 98.94|\n",
            "|2024-06-07|   294|     Meat|       8|  48.0|\n",
            "|2023-09-20|    91|     Rice|       9| 45.27|\n",
            "|2024-03-29|   242|Ice-cream|      10| 164.9|\n",
            "|2023-08-06|   287|Ice-cream|       8|131.92|\n",
            "|2024-05-29|   165|     Meat|       9|  54.0|\n",
            "|2023-10-12|    62|     Rice|       3| 15.09|\n",
            "|2024-02-24|    30|Ice-cream|       6| 98.94|\n",
            "|2023-12-29|   177|     Meat|       5|  30.0|\n",
            "|2024-04-20|    93|     Meat|       5|  30.0|\n",
            "+----------+------+---------+--------+------+\n",
            "only showing top 20 rows\n",
            "\n"
          ]
        }
      ]
    }
  ]
}